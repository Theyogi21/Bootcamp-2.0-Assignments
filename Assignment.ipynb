{
  "nbformat": 4,
  "nbformat_minor": 0,
  "metadata": {
    "colab": {
      "provenance": []
    },
    "kernelspec": {
      "name": "python3",
      "display_name": "Python 3"
    },
    "language_info": {
      "name": "python"
    }
  },
  "cells": [
    {
      "cell_type": "markdown",
      "source": [
        "#1- All type of erreos and its reason and exmple.\n",
        "\n",
        "###1- Name erroe ( eg- Print that is reserved key word but in this P is in uppercase so it is wrong we must start print with lowercase.\n",
        "\n",
        "Print= Wrong\n",
        "print=Right.\n",
        "\n",
        "###2- Variable name start with number that is wrong,\n",
        "\n",
        "10tan= Wrong\n",
        "tan10= Right.\n",
        "\n",
        "##3- Variable starting with special character\n",
        "\n",
        "*a= Wrong\n",
        "a= Right\n",
        "\n"
      ],
      "metadata": {
        "id": "tUd2IpjYJzP1"
      }
    },
    {
      "cell_type": "code",
      "execution_count": null,
      "metadata": {
        "colab": {
          "base_uri": "https://localhost:8080/",
          "height": 200
        },
        "id": "aH_I0YGQJrdj",
        "outputId": "c88c9343-9ebb-4e0e-a9e5-b1edd6875d9f"
      },
      "outputs": [
        {
          "output_type": "error",
          "ename": "NameError",
          "evalue": "ignored",
          "traceback": [
            "\u001b[0;31m---------------------------------------------------------------------------\u001b[0m",
            "\u001b[0;31mNameError\u001b[0m                                 Traceback (most recent call last)",
            "\u001b[0;32m<ipython-input-1-e4e0a8b86065>\u001b[0m in \u001b[0;36m<module>\u001b[0;34m\u001b[0m\n\u001b[1;32m      1\u001b[0m \u001b[0ma\u001b[0m\u001b[0;34m=\u001b[0m\u001b[0;36m10\u001b[0m\u001b[0;34m\u001b[0m\u001b[0;34m\u001b[0m\u001b[0m\n\u001b[1;32m      2\u001b[0m \u001b[0mb\u001b[0m\u001b[0;34m=\u001b[0m\u001b[0;36m10\u001b[0m\u001b[0;34m\u001b[0m\u001b[0;34m\u001b[0m\u001b[0m\n\u001b[0;32m----> 3\u001b[0;31m \u001b[0mPrint\u001b[0m\u001b[0;34m(\u001b[0m\u001b[0ma\u001b[0m\u001b[0;34m+\u001b[0m\u001b[0mb\u001b[0m\u001b[0;34m)\u001b[0m\u001b[0;34m\u001b[0m\u001b[0;34m\u001b[0m\u001b[0m\n\u001b[0m",
            "\u001b[0;31mNameError\u001b[0m: name 'Print' is not defined"
          ]
        }
      ],
      "source": [
        "a=10\n",
        "b=10\n",
        "Print(a+b)"
      ]
    },
    {
      "cell_type": "code",
      "source": [
        "print(a+b)"
      ],
      "metadata": {
        "colab": {
          "base_uri": "https://localhost:8080/"
        },
        "id": "6XBl4HujKUtF",
        "outputId": "83a62e8b-507f-4ed3-e99d-fdee53976912"
      },
      "execution_count": null,
      "outputs": [
        {
          "output_type": "stream",
          "name": "stdout",
          "text": [
            "20\n"
          ]
        }
      ]
    },
    {
      "cell_type": "code",
      "source": [
        "10tan=50\n",
        "print(type(10tan))"
      ],
      "metadata": {
        "colab": {
          "base_uri": "https://localhost:8080/",
          "height": 130
        },
        "id": "0LfeY2QwKbcm",
        "outputId": "3b8a824c-48e2-4d24-9d05-281554cadce5"
      },
      "execution_count": null,
      "outputs": [
        {
          "output_type": "error",
          "ename": "SyntaxError",
          "evalue": "ignored",
          "traceback": [
            "\u001b[0;36m  File \u001b[0;32m\"<ipython-input-3-437c5fefde48>\"\u001b[0;36m, line \u001b[0;32m1\u001b[0m\n\u001b[0;31m    10tan=50\u001b[0m\n\u001b[0m        ^\u001b[0m\n\u001b[0;31mSyntaxError\u001b[0m\u001b[0;31m:\u001b[0m invalid syntax\n"
          ]
        }
      ]
    },
    {
      "cell_type": "code",
      "source": [
        "tan10=50\n",
        "print(type(tan10))"
      ],
      "metadata": {
        "colab": {
          "base_uri": "https://localhost:8080/"
        },
        "id": "Ay_QUYyZKuKS",
        "outputId": "c6297927-38bd-4ad3-b7e1-cb703d4efd1d"
      },
      "execution_count": null,
      "outputs": [
        {
          "output_type": "stream",
          "name": "stdout",
          "text": [
            "<class 'int'>\n"
          ]
        }
      ]
    },
    {
      "cell_type": "code",
      "source": [
        "*x=30\n",
        "y=15\n",
        "\n",
        "print(type(*x), type(y))"
      ],
      "metadata": {
        "colab": {
          "base_uri": "https://localhost:8080/",
          "height": 130
        },
        "id": "WXUhOSebK5cb",
        "outputId": "b8638d64-0f55-46f3-e500-57543a73a783"
      },
      "execution_count": null,
      "outputs": [
        {
          "output_type": "error",
          "ename": "SyntaxError",
          "evalue": "ignored",
          "traceback": [
            "\u001b[0;36m  File \u001b[0;32m\"<ipython-input-8-3d6549555d27>\"\u001b[0;36m, line \u001b[0;32m4\u001b[0m\n\u001b[0;31m    print(type(*x), type(y))\u001b[0m\n\u001b[0m           ^\u001b[0m\n\u001b[0;31mSyntaxError\u001b[0m\u001b[0;31m:\u001b[0m starred assignment target must be in a list or tuple\n"
          ]
        }
      ]
    },
    {
      "cell_type": "code",
      "source": [
        "x*=30\n",
        "y=15\n",
        "print(type(y)"
      ],
      "metadata": {
        "colab": {
          "base_uri": "https://localhost:8080/",
          "height": 130
        },
        "id": "y7okqcQwLR2s",
        "outputId": "998d41a4-df66-4710-9095-fff4665aeb81"
      },
      "execution_count": null,
      "outputs": [
        {
          "output_type": "error",
          "ename": "SyntaxError",
          "evalue": "ignored",
          "traceback": [
            "\u001b[0;36m  File \u001b[0;32m\"<ipython-input-13-c0fe61779edb>\"\u001b[0;36m, line \u001b[0;32m3\u001b[0m\n\u001b[0;31m    print(type(y)\u001b[0m\n\u001b[0m                 ^\u001b[0m\n\u001b[0;31mSyntaxError\u001b[0m\u001b[0;31m:\u001b[0m unexpected EOF while parsing\n"
          ]
        }
      ]
    },
    {
      "cell_type": "code",
      "source": [
        "x=30\n",
        "y=15\n",
        "print(type(y))"
      ],
      "metadata": {
        "colab": {
          "base_uri": "https://localhost:8080/"
        },
        "id": "gwxYdoTAL-ym",
        "outputId": "16f356ec-49b5-44ae-c3d8-c9e8443aa98e"
      },
      "execution_count": null,
      "outputs": [
        {
          "output_type": "stream",
          "name": "stdout",
          "text": [
            "<class 'int'>\n"
          ]
        }
      ]
    },
    {
      "cell_type": "code",
      "source": [
        "print(\"my name is \n",
        "yogemdra\")"
      ],
      "metadata": {
        "colab": {
          "base_uri": "https://localhost:8080/",
          "height": 130
        },
        "id": "sO2g9PYiM5ar",
        "outputId": "3391ff54-1ca7-4c07-e71e-d46776ebd99d"
      },
      "execution_count": null,
      "outputs": [
        {
          "output_type": "error",
          "ename": "SyntaxError",
          "evalue": "ignored",
          "traceback": [
            "\u001b[0;36m  File \u001b[0;32m\"<ipython-input-23-54776d6bfdc0>\"\u001b[0;36m, line \u001b[0;32m1\u001b[0m\n\u001b[0;31m    print(\"my name is\u001b[0m\n\u001b[0m                      ^\u001b[0m\n\u001b[0;31mSyntaxError\u001b[0m\u001b[0;31m:\u001b[0m EOL while scanning string literal\n"
          ]
        }
      ]
    },
    {
      "cell_type": "code",
      "source": [
        "print(\"\"\"my name is\n",
        " yogendra \"\"\")"
      ],
      "metadata": {
        "colab": {
          "base_uri": "https://localhost:8080/"
        },
        "id": "StlLj0oWM_Vt",
        "outputId": "611d1835-fa91-464d-8ce8-1d143cec3695"
      },
      "execution_count": null,
      "outputs": [
        {
          "output_type": "stream",
          "name": "stdout",
          "text": [
            "my name is\n",
            " yogendra \n"
          ]
        }
      ]
    },
    {
      "cell_type": "markdown",
      "source": [
        "#2- Take input from users A & B and print their sum, mul. div, and square."
      ],
      "metadata": {
        "id": "gwOObX_lNWy8"
      }
    },
    {
      "cell_type": "code",
      "source": [
        "a=50\n",
        "b=15\n",
        "print(a+b,a-b)"
      ],
      "metadata": {
        "colab": {
          "base_uri": "https://localhost:8080/"
        },
        "id": "O9n8L6k6RgPF",
        "outputId": "20e6f61a-54b8-4159-e620-c5d0b8805505"
      },
      "execution_count": null,
      "outputs": [
        {
          "output_type": "stream",
          "name": "stdout",
          "text": [
            "65 35\n"
          ]
        }
      ]
    },
    {
      "cell_type": "code",
      "source": [
        "print(a**2, b**2)"
      ],
      "metadata": {
        "colab": {
          "base_uri": "https://localhost:8080/"
        },
        "id": "Go8scy3ORvi0",
        "outputId": "f88c3308-b53b-4b64-b796-e4fc06cbbd48"
      },
      "execution_count": null,
      "outputs": [
        {
          "output_type": "stream",
          "name": "stdout",
          "text": [
            "2500 225\n"
          ]
        }
      ]
    },
    {
      "cell_type": "code",
      "source": [
        "print(a*b,a/b)"
      ],
      "metadata": {
        "colab": {
          "base_uri": "https://localhost:8080/"
        },
        "id": "X6b47n68Rzd8",
        "outputId": "e5c57c01-0dd5-41a2-98ed-ba4c267d35de"
      },
      "execution_count": null,
      "outputs": [
        {
          "output_type": "stream",
          "name": "stdout",
          "text": [
            "750 3.3333333333333335\n"
          ]
        }
      ]
    },
    {
      "cell_type": "code",
      "source": [
        "print(a//b)"
      ],
      "metadata": {
        "colab": {
          "base_uri": "https://localhost:8080/"
        },
        "id": "T33q22pCSF53",
        "outputId": "c219e31b-f6c9-4d2c-8746-1cdece86e27f"
      },
      "execution_count": null,
      "outputs": [
        {
          "output_type": "stream",
          "name": "stdout",
          "text": [
            "3\n"
          ]
        }
      ]
    },
    {
      "cell_type": "code",
      "source": [
        "a=input(\"please enter any number\")\n",
        "b=input(\"please enter any number\")\n",
        "c=a+b\n",
        "print(f\"sum of a and b is: {c}\")"
      ],
      "metadata": {
        "colab": {
          "base_uri": "https://localhost:8080/"
        },
        "id": "uyy-ivWxSK2Q",
        "outputId": "32f5e3c3-b350-42d5-b091-eaa35cecca00"
      },
      "execution_count": null,
      "outputs": [
        {
          "output_type": "stream",
          "name": "stdout",
          "text": [
            "please enter any number50\n",
            "please enter any number15\n",
            "sum of a and b is: 5015\n"
          ]
        }
      ]
    },
    {
      "cell_type": "code",
      "source": [],
      "metadata": {
        "id": "9vUZGs1FS4OD"
      },
      "execution_count": null,
      "outputs": []
    },
    {
      "cell_type": "markdown",
      "source": [
        "#-3- Create email by user input.( last name.firstname@gmail.com)\n"
      ],
      "metadata": {
        "id": "w4UFuu1AYXv1"
      }
    },
    {
      "cell_type": "code",
      "source": [
        "firstname=input(\"enter your first name\")\n",
        "lastname=input(\"enter your last name\")\n",
        "print(f\"{lastname}.{firstname}@gmail.com\")"
      ],
      "metadata": {
        "colab": {
          "base_uri": "https://localhost:8080/"
        },
        "id": "fQnT8V5nYnVC",
        "outputId": "0797551a-adb8-4778-a010-bea96d0242d8"
      },
      "execution_count": null,
      "outputs": [
        {
          "output_type": "stream",
          "name": "stdout",
          "text": [
            "enter your first nameyogendra\n",
            "enter your last nametanwar\n",
            "tanwar.yogendra@gmail.com\n"
          ]
        }
      ]
    },
    {
      "cell_type": "code",
      "source": [],
      "metadata": {
        "id": "zBmPBMihY8vc"
      },
      "execution_count": null,
      "outputs": []
    },
    {
      "cell_type": "markdown",
      "source": [
        "#4-Try to print following lines-\n",
        "1- Hi my name is Sunny.\n",
        "2- My address is 22/3.\n",
        "3- I earn 20$ daily .\n",
        "\n"
      ],
      "metadata": {
        "id": "a2oFRaaTZC1P"
      }
    },
    {
      "cell_type": "code",
      "source": [
        "Name=\"Hi my name is summy\"\n",
        "address= \"My address is 22/3 Bangalore\"\n",
        "earning=\"I earn 20$ daily\"\n",
        "\n",
        "print(Name,address,earning)"
      ],
      "metadata": {
        "colab": {
          "base_uri": "https://localhost:8080/"
        },
        "id": "I-MuT0x3vvGV",
        "outputId": "696eb78a-4d60-48c0-bfcc-204afe318633"
      },
      "execution_count": 8,
      "outputs": [
        {
          "output_type": "stream",
          "name": "stdout",
          "text": [
            "Hi my name is summy My address is 22/3 Bangalore I earn 20$ daily\n"
          ]
        }
      ]
    },
    {
      "cell_type": "code",
      "source": [
        "print(Name)\n",
        "print(address)\n",
        "print(earning)"
      ],
      "metadata": {
        "colab": {
          "base_uri": "https://localhost:8080/"
        },
        "id": "UH4QANMmwO1e",
        "outputId": "187dccc3-f409-4ada-b661-cd252cf95db9"
      },
      "execution_count": 12,
      "outputs": [
        {
          "output_type": "stream",
          "name": "stdout",
          "text": [
            "Hi my name is summy\n",
            "My address is 22/3 Bangalore\n",
            "I earn 20$ daily\n"
          ]
        }
      ]
    },
    {
      "cell_type": "markdown",
      "source": [
        "#Que-5 User input to fill college form."
      ],
      "metadata": {
        "id": "QrxOU7uIxRJk"
      }
    },
    {
      "cell_type": "code",
      "source": [
        "\n",
        "name=input(\"What is your Name\")\n",
        "address=input(\"Where are you from\")\n",
        "dob=input(\"What is your dob\")\n",
        "lastname=input(\"please write your last name\")\n",
        "firstname=input(\"please write your first name\")\n",
        "\n",
        "print(f\"My name is:{name},I am from :- {address}city,My Date of birth is :- {dob}, Email id:- {lastname}.{firstname}@gmail.com\")"
      ],
      "metadata": {
        "colab": {
          "base_uri": "https://localhost:8080/"
        },
        "id": "mdVshH-fxVWZ",
        "outputId": "3b2ef074-1539-4625-a397-d82b204c5969"
      },
      "execution_count": 1,
      "outputs": [
        {
          "output_type": "stream",
          "name": "stdout",
          "text": [
            "What is your NameYogendra Tanwar\n",
            "Where are you fromJaipur\n",
            "What is your dob20Dec1999\n",
            "please write your last nametanwar\n",
            "please write your first nameyogendra\n",
            "My name is:Yogendra Tanwar,I am from :- Jaipurcity,My Date of birth is :- 20Dec1999, Email id:- tanwar.yogendra@gmail.com\n"
          ]
        }
      ]
    },
    {
      "cell_type": "code",
      "source": [],
      "metadata": {
        "id": "9LHZlqr1xmyW"
      },
      "execution_count": null,
      "outputs": []
    },
    {
      "cell_type": "markdown",
      "source": [
        "#Que-6 \n",
        "Conver the following-\n",
        "\n",
        "(\"22\") into Int,\n",
        "\"22\" into complex no\n"
      ],
      "metadata": {
        "id": "JpdgoKHuGHX7"
      }
    },
    {
      "cell_type": "code",
      "source": [
        "a=\"22\"\n",
        "type(a)"
      ],
      "metadata": {
        "colab": {
          "base_uri": "https://localhost:8080/"
        },
        "id": "RrOn4VGjGKGP",
        "outputId": "4eded63f-2704-4bab-d448-43414cdaabde"
      },
      "execution_count": 4,
      "outputs": [
        {
          "output_type": "execute_result",
          "data": {
            "text/plain": [
              "str"
            ]
          },
          "metadata": {},
          "execution_count": 4
        }
      ]
    },
    {
      "cell_type": "code",
      "source": [
        "a=int(\"22\")\n",
        "type(a)"
      ],
      "metadata": {
        "colab": {
          "base_uri": "https://localhost:8080/"
        },
        "id": "PZpESf4pGZYG",
        "outputId": "24f8f1d1-914e-453a-f5ce-28244efc0c72"
      },
      "execution_count": 5,
      "outputs": [
        {
          "output_type": "execute_result",
          "data": {
            "text/plain": [
              "int"
            ]
          },
          "metadata": {},
          "execution_count": 5
        }
      ]
    },
    {
      "cell_type": "code",
      "source": [
        "a=complex(\"22\")\n",
        "type(a)"
      ],
      "metadata": {
        "colab": {
          "base_uri": "https://localhost:8080/"
        },
        "id": "bw4LrtQeGpon",
        "outputId": "93a830cf-f020-4503-9424-557a7ad26ad0"
      },
      "execution_count": 7,
      "outputs": [
        {
          "output_type": "execute_result",
          "data": {
            "text/plain": [
              "complex"
            ]
          },
          "metadata": {},
          "execution_count": 7
        }
      ]
    },
    {
      "cell_type": "markdown",
      "source": [
        "#Que 7-Reserved Key words in Python\n",
        "\n",
        "Ans- There is 35 kind of key words are there in python that mean or use is already defined in python so we shold use them as keywords only.\n",
        "\n",
        "we can get them by run help(\"keywords\")"
      ],
      "metadata": {
        "id": "lRnv_ARDHd0v"
      }
    },
    {
      "cell_type": "code",
      "source": [
        "help(\"keywords\")"
      ],
      "metadata": {
        "colab": {
          "base_uri": "https://localhost:8080/"
        },
        "id": "fjLjOZOqGyMI",
        "outputId": "59a65f52-2cf4-450f-a627-5959d2abbd90"
      },
      "execution_count": 8,
      "outputs": [
        {
          "output_type": "stream",
          "name": "stdout",
          "text": [
            "\n",
            "Here is a list of the Python keywords.  Enter any keyword to get more help.\n",
            "\n",
            "False               class               from                or\n",
            "None                continue            global              pass\n",
            "True                def                 if                  raise\n",
            "and                 del                 import              return\n",
            "as                  elif                in                  try\n",
            "assert              else                is                  while\n",
            "async               except              lambda              with\n",
            "await               finally             nonlocal            yield\n",
            "break               for                 not                 \n",
            "\n"
          ]
        }
      ]
    },
    {
      "cell_type": "code",
      "source": [],
      "metadata": {
        "id": "eYlpij_WHlKC"
      },
      "execution_count": null,
      "outputs": []
    }
  ]
}